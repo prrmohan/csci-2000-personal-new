# Priya Mohan - 100503515

import csv
import matplotlib.pyplot as plt
import urllib
from mpl_toolkits.basemap import Basemap
import numpy as np

catList = list()
latList = list()
longList = list()
caseList = list()
# Loading relevent columns into numpy arrays
with open("Source_data_for_CFR_vaccine_map_abridged.csv", "r") as file:
	fr = csv.reader(file)
	for row in fr:
		# Double check I don't add the labels accidentally
		if row[0] != "Category":
			catList.append(row[0])
			latList.append(row[1])
			longList.append(row[2])
			caseList.append(row[3])

categories = np.array(catList)
latitudes = np.array(latList)
longitudes = np.array(longList)
cases = np.array(caseList)

# Measles plot
earth = Basemap(projection='mill', lat_0=0, lon_0=0)
earth.drawcoastlines(color='0.50', linewidth=0.25)
earth.fillcontinents(color='0.95')
earth.drawmapboundary(fill_color="aqua")
indexList = np.where(categories == "Measles")
x, y = earth(longitudes[indexList].astype(np.float), latitudes[indexList].astype(np.float))
earth.scatter(x, y, color="r")
plt.title("Measles outbreaks - 100503515")
plt.show()

# Rubella plot
earth = Basemap(projection='mill', lat_0=0, lon_0=0)
earth.drawcoastlines(color='0.50', linewidth=0.25)
earth.fillcontinents(color='0.95')
earth.drawmapboundary(fill_color="aqua")
indexList = np.where(categories == "Rubella")
x, y = earth(longitudes[indexList].astype(np.float), latitudes[indexList].astype(np.float))
earth.scatter(x, y, color="m")
plt.title("Rubella outbreaks - 100503515")
plt.show()

# Mumps plot
earth = Basemap(projection='mill', lat_0=0, lon_0=0)
earth.drawcoastlines(color='0.50', linewidth=0.25)
earth.fillcontinents(color='0.95')
earth.drawmapboundary(fill_color="aqua")
indexList = np.where(categories == "Mumps")
x, y = earth(longitudes[indexList].astype(np.float), latitudes[indexList].astype(np.float))
earth.scatter(x, y, color="g")
plt.title("Mumps outbreaks - 100503515")
plt.show()

# Polio plot
earth = Basemap(projection='mill', lat_0=0, lon_0=0)
earth.drawcoastlines(color='0.50', linewidth=0.25)
earth.fillcontinents(color='0.95')
earth.drawmapboundary(fill_color="aqua")
indexList = np.where(categories == "Polio")
x, y = earth(longitudes[indexList].astype(np.float), latitudes[indexList].astype(np.float))
earth.scatter(x, y, color="b")
plt.title("Polio outbreaks - 100503515")
plt.show()