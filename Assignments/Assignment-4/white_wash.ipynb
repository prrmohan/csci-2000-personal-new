# Priya Mohan - 100503515
import numpy as np

def WhiteWash(colourMap):
	# Assuming matrix always stays as described in
	# question (m x 3 matrix)
	# Can just write range based off length if not
	for x in range (0, 3):
		for j in range (0, 3):
			# avg with colour white
			# assuming white = 1 as based on the
			# question example
			colourMap[x][j] = (colourMap[x][j]+1)/2


# Test function to see it works
colourMap = np.array([[0.5, 0.25, 0.2], [0.3, 0.1, 0.4], [0.15, 0.6, 0.57]])
print("Colour Map before white washing:")
print(colourMap)
WhiteWash(colourMap)
print("Colour Map after white washing:")
print(colourMap)