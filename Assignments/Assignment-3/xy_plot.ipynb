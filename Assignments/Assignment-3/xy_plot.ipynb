# Priya Mohan 100503515
# Question 4

import matplotlib.pyplot as py
import numpy as npy

# 4a - read data from file
# I know there are only 2 lines in the file so I'm assuming x = line 1 and y = line 2
# I therefore read each line separately and split the coordinates into a vector
#	instead of looping through and appending each time
fw = open("xy_points.dat", "r")
line = fw.readline()
a = line.split()
line = fw.readline()
b = line.split()
# Now create numpy arrays so we can use boolean indexing for the later questions
x = npy.array(a)
y = npy.array(b)

fig, ax = py.subplots()

# 4b - plot coordinates as red dots
ax.scatter(x, y, c="red")


# 4c - satisfy inequalities outlined in question c and plot as blue dots
ax.scatter(x[x<-2], y[5<=y<=0], c="blue")

# 4d - satisfy condition outlined in question d and plot as green dots
# We want a radius of 5 from the point (0,5)
# Easy way to do this is splice the x and y array
ax.scatter(x[-5<=x<=5], y[0<=y<=10], c="green")

# 4e - customised axes
ax.set_xlim(-10, 10)
ax.set_ylim(-10, 10)

#4 - 4f - added title
py.title("Highlighted points (100503515)")
py.show()
fw.close()