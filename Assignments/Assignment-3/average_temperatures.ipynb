# Priya Mohan 100503515
# Question 3

import pylab as py

# 3a - loading data from the .dat files into 3 separate arrays
# Data is arranged as one temperature per line (1 avg tempterature per each month so 12 lines 
#	total), so I just strip the file and put each line into a slot in an array.
fw = open("montreal_temperature_2012.dat", "r")
montreal = list(fw.read().splitlines())		# ensures newlines aren't added to array
fw = open("toronto_temperature_2012.dat", "r")
toronto = list(fw.read().splitlines())
fw = open("vancouver_temperature_2012.dat", "r")
vancouver = list(fw.read().splitlines())

fw.close()

x = range(0, 12)
xNames = ["Jan", "Feb", "Mar", "Apr", "May", "Jun", "Jul", "Aug", "Sep", "Oct", "Nov", "Dec"]
y1 = montreal
y2 = toronto
y3 = vancouver

# 3b - plotting all 3 temperature sets against the months. 
# Each line has a different colour and style
py.plot(x, y1, "-b", label="Montreal", linestyle="dashed")
py.plot(x, y2, "-r", label="Toronto", linestyle="dashdot")
py.plot(x, y3, "-y", label="Vancouver", linestyle="solid")

# 3c - adding a legend
py.legend(loc="upper right")

# 3d - adding labels for each axis
py.xlabel("Month")
py.ylabel("Average Temperature per Month (Celsius)")

# 3e - changed xticks so they now show the names with 3-letter abbreviations
py.xticks(rotation=90)
py.xticks(x, xNames)

# 3f - added a title 
py.title("2012 Average Monthly Temperatures (100503515)")

py.show()