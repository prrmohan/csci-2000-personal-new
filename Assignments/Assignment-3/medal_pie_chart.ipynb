# Priya Mohan 100503515
import matplotlib.pyplot as mplt

labels = ["USA", "CHN", "GBR", "RUS", "KOR", "GER", "FRA", "ITA", "HUN", "AUS", "OTHER"]
# Found these colours from official pyplot documentation for accepted colours
colours = ["#330033", "#CC6666", "#FFCC99", "#993300", "#660033", "#996699", "#663300", "#CC9966", "#330033", "#CC9999", "#660000"]
medals = [46, 38, 29, 24, 23, 22, 22, 8, 8, 7, 107]
# Just for a nice aesthetic with the chart
explode = [0.05, 0.01, 0.0, 0.0, 0.0, 0.0, 0.0, 0.0, 0.0, 0.0, 0.1]

total=sum(medals)

mplt.suptitle("2012 Olympic Gold Medals (100503515)")
# Figured how to use auto percent (autopct) to use normal values from stackoverflow
mplt.pie(medals, explode=explode, labels=labels, autopct=lambda(p): '{:.0f}'.format(p * total / 100), colors=colours, shadow=True, startangle=90)

mplt.show()