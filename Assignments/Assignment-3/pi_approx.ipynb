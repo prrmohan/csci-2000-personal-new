# Priya Mohan 100503515
# Assignment 3 - Question 1
import numpy as np

# Function for 1a
# These 3 functions use a while loop to sum based on the equations given to us in the assignment
def rho_n(n):
	k = 1
	i = 0
	total = 0
	while i < n:
		numerator = pow(-1, i+2)
		#using float(k) to ensure total is a float
		total += numerator/float(k)	
		k+=2
		i+=1

	return 4*total

# Function for 1b
def tau_n(n):
	i = 1
	total = 0
	while i <= n:
		# keeping denominator as a float to ensure func returns a float
		total += 1/float(pow(i, 2))
		i+=1

	return np.sqrt(6*total)

# Function for 1c
def mu_n(n):
	i = 1
	total = 0
	while i <= n:
		# keeping denominator as a float to ensure func returns a float
		total += 1/float(pow(i, 4))
		i+=1

	return (90*total)**(1/4.0)

def main():
	arr = [10, 100, 1000, 10000, 100000, 1000000]
	# Iterates through arr and calls each separate function for each n in the array.
	for i in arr:
		rho = rho_n(i)
		tau = tau_n(i)
		mu = mu_n(i)
		# .11f rounds to 11 decimal places like the example in the assignment.
		print "When n = %d, rho_n = %.11f" % (i, rho)
		print "When n = %d, tau_n = %.11f" % (i, tau)
		print "When n = %d, mu_n = %.11f" % (i, mu)


# Will allow program to call main if run as python pi_approx.ipynb from cmd line
if __name__ == '__main__':
    main()