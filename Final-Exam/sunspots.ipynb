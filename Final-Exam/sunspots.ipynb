import matplotlib.pyplot as py
import numpy as np
import csv

dataArray = list()

#a)

with open("ISSN_D_tot.csv", "r") as file:
  fr = csv.reader(file)
  for line in fr:
    dataArray.append(line)

npData = np.array(dataArray)
l = len(npData)
#b)
print "The most recent observations were on", npData[l-1][:3]

#c)
x=0
for i in range(0, l-1):
  x += int(npData[i][4])

print "Statistics of daily sunspot observations (1818-present):"
print "Mean:", x/l
print "Median:", npData[l/2][4]
print "Standard deviation:"


fig, ax = py.subplots()

time = list()
spots = list()
for i in range(0, l-1):
  time.append(npData[i][3])
  spots.append(npData[i][4])


py.plot(time, spots, c="cyan")
j = list()
f = list()
for i in range (0, l-1):
  j.append(x/l)
py.plot(time, j, c="blue")  # prints mean
m = int(npData[l/2][4])
for i in range (0, l-1):
  f.append(m)
py.plot(time, f, c="black", linestyle="solid")   # prints median
ax.set_xlim(1818, 2015)

py.title("Daily sunspot observations (1818-2015)")
py.show()
fw.close()