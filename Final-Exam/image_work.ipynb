import numpy as np

fr = open("peppers.png", "rb")
a = list()
while fr.read():
  a.append(fr.read())

rgb_peppers = np.array(a)
print(a)
print "The dimensions of the RGB image are", len(a)
print ""