# Calls fib for each sequence of 0-n
# This allows for me to write down the 
#   corresponding fib number in the file
def fib_file(n, fname):
  assert n >= 0
  fw = open(fname, "a")
  fw.write("\n")
  for x in range (0, n):
    f = fib(x)
    fw.write("\t")
    fw.write('\t\t'.join(str(x)))
    fw.write("\t")
    fw.write('\t\t'.join(str(f)))    
    fw.write("\n")

  fw.close()

# This still does recursion
#   but it computes the total fib #
#   for n, and not the entire sequence
def fib(n):
  if n == 0:
    return n
  if n == 1:
    return n
  if n != None:
    return (fib(n-1)+fib(n-2))

fname = "fib_6.txt"
fw = open(fname, "w")
fw.write("\tn\tF_n")
fw.close()
fib_file(6, fname)
