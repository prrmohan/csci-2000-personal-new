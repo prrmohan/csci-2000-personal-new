import matplotlib.pyplot as py
import numpy as np


fig, ax = py.subplots()

x1 = [-6, -5, -4, -3, -2, -1, 0, 1, 2, 3, 4, 5, 6]
y1 = list()

for t in range(0,101):
  for f in x1:
    y1.append(1.75*sin*(x-20*t)

x = np.array(x1)
y = np.array(y1)

ax.set_xlim(-6, 6)
ax.set_ylim(-2, 2)

py.plot(x, y, c="r")

py.title(t)
py.show()
fw.close()